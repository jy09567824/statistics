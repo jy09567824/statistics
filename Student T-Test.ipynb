{
 "cells": [
  {
   "cell_type": "markdown",
   "metadata": {},
   "source": [
    "# T-Test (Student's t-test)"
   ]
  },
  {
   "cell_type": "code",
   "execution_count": 59,
   "metadata": {},
   "outputs": [],
   "source": [
    "import numpy as np\n",
    "import pandas as pd\n",
    "from scipy import stats"
   ]
  },
  {
   "cell_type": "code",
   "execution_count": 14,
   "metadata": {},
   "outputs": [
    {
     "name": "stdout",
     "output_type": "stream",
     "text": [
      "   Id  SepalLengthCm  SepalWidthCm  PetalLengthCm  PetalWidthCm      Species\n",
      "0   1            5.1           3.5            1.4           0.2  Iris-setosa\n",
      "1   2            4.9           3.0            1.4           0.2  Iris-setosa\n",
      "2   3            4.7           3.2            1.3           0.2  Iris-setosa\n",
      "3   4            4.6           3.1            1.5           0.2  Iris-setosa\n",
      "4   5            5.0           3.6            1.4           0.2  Iris-setosa \n",
      "\n",
      "               Id  SepalLengthCm  SepalWidthCm  PetalLengthCm  PetalWidthCm\n",
      "count  150.000000     150.000000    150.000000     150.000000    150.000000\n",
      "mean    75.500000       5.843333      3.054000       3.758667      1.198667\n",
      "std     43.445368       0.828066      0.433594       1.764420      0.763161\n",
      "min      1.000000       4.300000      2.000000       1.000000      0.100000\n",
      "25%     38.250000       5.100000      2.800000       1.600000      0.300000\n",
      "50%     75.500000       5.800000      3.000000       4.350000      1.300000\n",
      "75%    112.750000       6.400000      3.300000       5.100000      1.800000\n",
      "max    150.000000       7.900000      4.400000       6.900000      2.500000 \n",
      "\n",
      "['Iris-setosa' 'Iris-versicolor' 'Iris-virginica']\n"
     ]
    }
   ],
   "source": [
    "df_iris = pd.read_csv('./datasets/iris.csv')\n",
    "\n",
    "print(df_iris.head(), '\\n')\n",
    "print(df_iris.describe(), '\\n')\n",
    "print(df_iris['Species'].unique())"
   ]
  },
  {
   "cell_type": "markdown",
   "metadata": {},
   "source": [
    "## 1. 單一樣本 T 檢定"
   ]
  },
  {
   "cell_type": "code",
   "execution_count": 48,
   "metadata": {},
   "outputs": [
    {
     "name": "stdout",
     "output_type": "stream",
     "text": [
      "ShapiroResult(statistic=0.9466801881790161, pvalue=0.31948909163475037) \n",
      "\n",
      "P-Value = 0.31948909163475037 > 0.05, do not reject Ho, sample is from the normal distributions.\n"
     ]
    }
   ],
   "source": [
    "# 從資料中隨機抽取 20 筆 Iris-setosa 資料做檢定\n",
    "s_iris_setosa = np.random.choice(df_iris[df_iris['Species'] == 'Iris-setosa']['SepalLengthCm'], 20)\n",
    "\n",
    "# 由於資料為小樣本, 需進行常態性檢定 (Shapiro-Wilk test)\n",
    "'''\n",
    "Shapiro-Wilk test is a test of normality, it determines whether the given sample comes from the normal distribution or not. \n",
    "Shapiro-Wilk’s test or Shapiro test is a normality test in frequentist statistics. \n",
    "Ho: Sample is from the normal distributions.(Po > 0.05)\n",
    "Ha: Sample is not from the normal distributions.\n",
    "'''\n",
    "print(stats.shapiro(s_iris_setosa), '\\n')\n",
    "print(f'P-Value = {stats.shapiro(s_iris_setosa)[1]} > 0.05, do not reject Ho, sample is from the normal distributions.')"
   ]
  },
  {
   "cell_type": "code",
   "execution_count": 66,
   "metadata": {},
   "outputs": [
    {
     "name": "stdout",
     "output_type": "stream",
     "text": [
      "Test statistic = 2.527152305619065\n",
      "Critical value = 1.729132811521367 \n",
      "\n",
      "Test statistic is in rejection region (t_value > critical value)), reject H0\n"
     ]
    }
   ],
   "source": [
    "'''\n",
    "H0: The mean of speal length of Iris-setosa is not greater than 5\n",
    "H1: The mean of speal length of Iris-setosa is greater than 5 (one-tailed test)\n",
    "\n",
    "sigificance level = 0.05, if p-value < 0.05, we reject H0.\n",
    "It means that the mean of speal length of Iris-setosa is greater than 5\n",
    "'''\n",
    "\n",
    "mu_0 = 5\n",
    "\n",
    "sigificance_level = 0.05\n",
    "\n",
    "mu = np.mean(s_iris_setosa) # sample mean\n",
    "df = len(s_iris_setosa) - 1 # degree of freedom\n",
    "sigma = np.std(s_iris_setosa, ddof=1) # sample standard deviation\n",
    "se = sigma / np.sqrt(len(s_iris_setosa)) # standard error\n",
    "\n",
    "t_value = (mu - mu_0) / se # test statistic\n",
    "print(f'Test statistic = {t_value}')\n",
    "\n",
    "''' Critical value approach, if t_value > critical value, we reject H0 '''\n",
    "critical_value = stats.t.ppf(1-sigificance_level, df) # critical value, one-tailed test (right)\n",
    "print(f'Critical value = {rejection_region}', '\\n')\n",
    "\n",
    "if t_value > critical_value:\n",
    "    print('Test statistic is in rejection region (t_value > critical value)), reject H0') \n",
    "else:\n",
    "    print('Test statistic is not in rejection region (t_value < critical value), do not reject H0')"
   ]
  },
  {
   "cell_type": "code",
   "execution_count": 83,
   "metadata": {},
   "outputs": [
    {
     "name": "stdout",
     "output_type": "stream",
     "text": [
      "Ttest_1sampResult(statistic=2.527152305619065, pvalue=0.01026446982031448) \n",
      "\n",
      "P-value = 0.010264469820314481 < 0.05, reject H0\n"
     ]
    }
   ],
   "source": [
    "''' P-value approach, if p-value < sigificance_level, we reject H0 '''\n",
    "p_value = 1-(stats.t.cdf(t_value, df))\n",
    "# p_value = stats.t.sf(np.abs(t_value), df)  # 1 - cdf(t_value, df) = sf(t_value, df)\n",
    "\n",
    "# 也可使用 scipy.stats.ttest_1samp() 快速計算檢定統計量與 P-Value\n",
    "result = stats.ttest_1samp(s_iris_setosa, mu_0, alternative='greater') # t-test\n",
    "print(result, '\\n')\n",
    "\n",
    "if p_value < sigificance_level:\n",
    "    print(f'P-value = {p_value} < {sigificance_level}, reject H0')\n",
    "else:\n",
    "    print(f'P-value = {p_value} > {sigificance_level}, do not reject H0')"
   ]
  },
  {
   "cell_type": "code",
   "execution_count": 77,
   "metadata": {},
   "outputs": [
    {
     "name": "stdout",
     "output_type": "stream",
     "text": [
      "Confidence interval = (5.026626760400652, 5.2833732395993485) \n",
      "\n",
      "mu_0 = 5 is not in the confidence interval, reject H0\n"
     ]
    }
   ],
   "source": [
    "''' Confidence interval approach, if mu_0 is not in the confidence interval, we reject H0 '''\n",
    "confidence_interval = stats.t.interval(1-sigificance_level, df, loc=mu, scale=se)\n",
    "print(f'Confidence interval = {confidence_interval}', '\\n')\n",
    "\n",
    "if mu_0 < confidence_interval[0] or mu_0 > confidence_interval[1]:\n",
    "    print(f'mu_0 = {mu_0} is not in the confidence interval, reject H0')\n",
    "else:\n",
    "    print(f'mu_0 = {mu_0} is in the confidence interval, do not reject H0')"
   ]
  },
  {
   "cell_type": "markdown",
   "metadata": {},
   "source": [
    "模擬實驗計算 P-Value"
   ]
  },
  {
   "cell_type": "code",
   "execution_count": 94,
   "metadata": {},
   "outputs": [
    {
     "data": {
      "text/plain": [
       "0.0123"
      ]
     },
     "execution_count": 94,
     "metadata": {},
     "output_type": "execute_result"
    }
   ],
   "source": [
    "num_tests = 10000\n",
    "\n",
    "mu_0 = 5\n",
    "size = len(s_iris_setosa)\n",
    "sigma = np.std(s_iris_setosa, ddof=1)\n",
    "\n",
    "test_statistic = (mu - mu_0) / se\n",
    "\n",
    "t_value_array = np.zeros(num_tests)\n",
    "np.random.seed(1)\n",
    "norm_dist = stats.norm(loc=mu_0, scale=sigma)\n",
    "\n",
    "for i in range(num_tests):\n",
    "    sample = norm_dist.rvs(size=size)\n",
    "    sample_mean = np.mean(sample)\n",
    "    sample_std = np.std(sample, ddof=1)\n",
    "    sample_se = sample_std / np.sqrt(size)\n",
    "    t_value_array[i] = (sample_mean - mu_0) / sample_se\n",
    "\n",
    "# 計算 array 中大於檢定統計量的佔比, 即為 p-value (雙尾需乘以 2)\n",
    "sum(t_value_array > test_statistic) / num_tests\n",
    "# 超過比例越小, 代表 p-value 越小, 樣本觀察值越不可能來自於 H0 的母體分配, 傾向於拒絕 H0"
   ]
  },
  {
   "cell_type": "markdown",
   "metadata": {},
   "source": [
    "## 2. 成對樣本 T 檢定"
   ]
  },
  {
   "cell_type": "markdown",
   "metadata": {},
   "source": [
    "### 2-1. 兩相依母體 T 檢定: 同一個樣本在不同情況的差異\n",
    "檢定學生在第二次考試成績有沒有進步，需要計算兩次考試成績的差異，再進行 T 檢定。與單一樣本 T 檢定作法相同："
   ]
  },
  {
   "cell_type": "code",
   "execution_count": 14,
   "metadata": {},
   "outputs": [
    {
     "name": "stdout",
     "output_type": "stream",
     "text": [
      "Ttest_1sampResult(statistic=0.7497768853141169, pvalue=0.4649871003972206) \n",
      "\n",
      "P-value = 0.4649871003972206 > 0.05, do not reject H0\n"
     ]
    }
   ],
   "source": [
    "diff = df_grade['Difference']\n",
    "'''\n",
    "H0: The mean of difference between Exam 1 and Exam2 is qual to 0\n",
    "Ha: The mean of difference between Exam 1 and Exam2 is not qual to 0 (two-tailed test) \n",
    "'''\n",
    "mu_0 = 0\n",
    "alpha = 0.05\n",
    "\n",
    "result = stats.ttest_1samp(diff, mu_0)\n",
    "print(result, '\\n')\n",
    "\n",
    "def p_value_approach(p_value, sigificance_level):\n",
    "    if p_value < sigificance_level:\n",
    "        print(f'P-value = {p_value} < {sigificance_level}, reject H0')\n",
    "    else:\n",
    "        print(f'P-value = {p_value} > {sigificance_level}, do not reject H0')\n",
    "\n",
    "p_value_approach(result[1], alpha)"
   ]
  },
  {
   "cell_type": "markdown",
   "metadata": {},
   "source": [
    "### 2-2. 獨立樣本 T 檢定\n",
    "以 iris.csv 為例，想檢定 Iris-setosa 與 Iris-virginica 的 sepal length 是否有顯著差異，需要先將資料分成兩組，再進行 T 檢定。\n",
    "- 在母體變異數 sigma_1 與 sigma_2 未知情況下，應先進行模型診斷，判斷兩母體變異數是否相等(F 檢定, 滿足同質變異數假設)\n",
    "- 若兩母體變異數不相等，則應使用 Welch's t-test"
   ]
  },
  {
   "cell_type": "code",
   "execution_count": 38,
   "metadata": {},
   "outputs": [
    {
     "name": "stdout",
     "output_type": "stream",
     "text": [
      "['Iris-setosa' 'Iris-versicolor' 'Iris-virginica']\n"
     ]
    }
   ],
   "source": [
    "df_iris = pd.read_csv('iris.csv')\n",
    "print(df_iris['Species'].unique())\n",
    "\n",
    "sepal_setosa = np.random.choice(df_iris[df_iris['Species'] == 'Iris-setosa']['SepalLengthCm'], 20)\n",
    "sepal_virginica = np.random.choice(df_iris[df_iris['Species'] == 'Iris-virginica']['SepalLengthCm'], 20)"
   ]
  },
  {
   "cell_type": "code",
   "execution_count": 56,
   "metadata": {},
   "outputs": [
    {
     "name": "stdout",
     "output_type": "stream",
     "text": [
      "Degree of Freedom = 26.35427339199482 \n",
      "\n",
      "Test Statistics = -8.265141252471022 \n",
      "\n",
      "P-value = 8.602600995826035e-09\n"
     ]
    }
   ],
   "source": [
    "'''\n",
    "H0: mu_s - mu_v = 0\n",
    "Ha: mu_s - mu_v != 0 (two-tailed test)\n",
    "'''\n",
    "\n",
    "const = 0\n",
    "\n",
    "mean_setosa = sepal_setosa.mean()\n",
    "mean_virginica = sepal_virginica.mean()\n",
    "\n",
    "sigma_setosa = sepal_setosa.std(ddof=1)\n",
    "sigma_virginica = sepal_virginica.std(ddof=1)\n",
    "\n",
    "n_setosa = len(sepal_setosa)\n",
    "n_virginica = len(sepal_virginica)\n",
    "\n",
    "# 計算 Welch 自由度\n",
    "a = ((sigma_setosa ** 2) / n_setosa)\n",
    "b =  ((sigma_virginica ** 2) / n_virginica)\n",
    "df_welch = (a + b) ** 2 / ((a ** 2) / (n_setosa - 1) + (b ** 2) / (n_virginica - 1))\n",
    "print(f'Degree of Freedom = {df_welch}', '\\n')\n",
    "\n",
    "t_value = (mean_setosa - mean_virginica - const) / (np.sqrt(sigma_setosa ** 2 / n_setosa + sigma_virginica ** 2 / n_virginica))\n",
    "print(f'Test Statistics = {t_value}', '\\n')\n",
    "\n",
    "# 計算 p-value\n",
    "print(f'P-value = {stats.t.sf(np.abs(t_value), df_welch) * 2}')"
   ]
  },
  {
   "cell_type": "code",
   "execution_count": 58,
   "metadata": {},
   "outputs": [
    {
     "name": "stdout",
     "output_type": "stream",
     "text": [
      "Ttest_indResult(statistic=-8.265141252471022, pvalue=8.602600995826035e-09) \n",
      "\n",
      "P-value = 8.602600995826035e-09 < 0.05, reject H0\n"
     ]
    }
   ],
   "source": [
    "# equal_var=False, 代表使用變異數不同, 會進行 Welch's t-test\n",
    "result = stats.ttest_ind(sepal_setosa, sepal_virginica, equal_var=False)\n",
    "print(result, '\\n')\n",
    "\n",
    "p_value_approach(result[1], alpha)"
   ]
  }
 ],
 "metadata": {
  "kernelspec": {
   "display_name": "Python 3",
   "language": "python",
   "name": "python3"
  },
  "language_info": {
   "codemirror_mode": {
    "name": "ipython",
    "version": 3
   },
   "file_extension": ".py",
   "mimetype": "text/x-python",
   "name": "python",
   "nbconvert_exporter": "python",
   "pygments_lexer": "ipython3",
   "version": "3.10.5"
  },
  "orig_nbformat": 4
 },
 "nbformat": 4,
 "nbformat_minor": 2
}
