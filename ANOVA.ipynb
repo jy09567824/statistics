{
 "cells": [
  {
   "cell_type": "markdown",
   "metadata": {},
   "source": [
    "# 變異數分析"
   ]
  },
  {
   "cell_type": "markdown",
   "metadata": {},
   "source": [
    "ANOVA 模型假設:\n",
    "1. $E(\\epsilon_{ij}) = 0$, 誤差期望值為 0\n",
    "2. 同質變異數(homoscendasticity)假設: k 個處理內的變異數相等\n",
    "3. 獨立性假設: $\\epsilon_{ij}$ 誤差項與處理間相互獨立\n",
    "4. 常態性假設: $\\epsilon_{ij}$ 誤差項為常態分配\n"
   ]
  },
  {
   "cell_type": "markdown",
   "metadata": {},
   "source": [
    "### One-way ANOVA CRD"
   ]
  },
  {
   "cell_type": "markdown",
   "metadata": {},
   "source": [
    "以鳶尾花資料集為例，欲觀察不同的品種(處理)是否會影響花瓣長度(反應變數)，我們可以使用變異數分析來進行檢定。\n",
    "\n",
    "- **H0: mu1 = mu2 = mu3,** 代表三個品種的花瓣長度沒有差異\n",
    "- **H1: mu1 != mu2 != mu3**, 至少有一種花瓣的平均數和其他類別不相等"
   ]
  },
  {
   "cell_type": "code",
   "execution_count": 1,
   "metadata": {},
   "outputs": [],
   "source": [
    "import numpy as np\n",
    "import pandas as pd\n",
    "from scipy import stats\n",
    "\n",
    "import matplotlib.pyplot as plt\n",
    "import seaborn as sns\n",
    "sns.set()\n",
    "\n",
    "import statsmodels.formula.api as smf\n",
    "import statsmodels.api as sm"
   ]
  },
  {
   "cell_type": "code",
   "execution_count": 2,
   "metadata": {},
   "outputs": [
    {
     "data": {
      "text/html": [
       "<div>\n",
       "<style scoped>\n",
       "    .dataframe tbody tr th:only-of-type {\n",
       "        vertical-align: middle;\n",
       "    }\n",
       "\n",
       "    .dataframe tbody tr th {\n",
       "        vertical-align: top;\n",
       "    }\n",
       "\n",
       "    .dataframe thead th {\n",
       "        text-align: right;\n",
       "    }\n",
       "</style>\n",
       "<table border=\"1\" class=\"dataframe\">\n",
       "  <thead>\n",
       "    <tr style=\"text-align: right;\">\n",
       "      <th></th>\n",
       "      <th>Id</th>\n",
       "      <th>SepalLengthCm</th>\n",
       "      <th>SepalWidthCm</th>\n",
       "      <th>PetalLengthCm</th>\n",
       "      <th>PetalWidthCm</th>\n",
       "      <th>Species</th>\n",
       "    </tr>\n",
       "  </thead>\n",
       "  <tbody>\n",
       "    <tr>\n",
       "      <th>0</th>\n",
       "      <td>1</td>\n",
       "      <td>5.1</td>\n",
       "      <td>3.5</td>\n",
       "      <td>1.4</td>\n",
       "      <td>0.2</td>\n",
       "      <td>Iris-setosa</td>\n",
       "    </tr>\n",
       "    <tr>\n",
       "      <th>1</th>\n",
       "      <td>2</td>\n",
       "      <td>4.9</td>\n",
       "      <td>3.0</td>\n",
       "      <td>1.4</td>\n",
       "      <td>0.2</td>\n",
       "      <td>Iris-setosa</td>\n",
       "    </tr>\n",
       "    <tr>\n",
       "      <th>2</th>\n",
       "      <td>3</td>\n",
       "      <td>4.7</td>\n",
       "      <td>3.2</td>\n",
       "      <td>1.3</td>\n",
       "      <td>0.2</td>\n",
       "      <td>Iris-setosa</td>\n",
       "    </tr>\n",
       "    <tr>\n",
       "      <th>3</th>\n",
       "      <td>4</td>\n",
       "      <td>4.6</td>\n",
       "      <td>3.1</td>\n",
       "      <td>1.5</td>\n",
       "      <td>0.2</td>\n",
       "      <td>Iris-setosa</td>\n",
       "    </tr>\n",
       "    <tr>\n",
       "      <th>4</th>\n",
       "      <td>5</td>\n",
       "      <td>5.0</td>\n",
       "      <td>3.6</td>\n",
       "      <td>1.4</td>\n",
       "      <td>0.2</td>\n",
       "      <td>Iris-setosa</td>\n",
       "    </tr>\n",
       "  </tbody>\n",
       "</table>\n",
       "</div>"
      ],
      "text/plain": [
       "   Id  SepalLengthCm  SepalWidthCm  PetalLengthCm  PetalWidthCm      Species\n",
       "0   1            5.1           3.5            1.4           0.2  Iris-setosa\n",
       "1   2            4.9           3.0            1.4           0.2  Iris-setosa\n",
       "2   3            4.7           3.2            1.3           0.2  Iris-setosa\n",
       "3   4            4.6           3.1            1.5           0.2  Iris-setosa\n",
       "4   5            5.0           3.6            1.4           0.2  Iris-setosa"
      ]
     },
     "execution_count": 2,
     "metadata": {},
     "output_type": "execute_result"
    }
   ],
   "source": [
    "df_iris = pd.read_csv('./datasets/iris.csv')\n",
    "df_iris.head()"
   ]
  },
  {
   "cell_type": "code",
   "execution_count": 24,
   "metadata": {},
   "outputs": [
    {
     "data": {
      "text/plain": [
       "<AxesSubplot: xlabel='Species', ylabel='PetalLengthCm'>"
      ]
     },
     "execution_count": 24,
     "metadata": {},
     "output_type": "execute_result"
    },
    {
     "data": {
      "image/png": "[encoded data removed]",
      "text/plain": [
       "<Figure size 640x480 with 1 Axes>"
      ]
     },
     "metadata": {},
     "output_type": "display_data"
    }
   ],
   "source": [
    "# 繪製箱形圖\n",
    "sns.boxplot(x='Species', y='PetalLengthCm', data=df_iris)"
   ]
  },
  {
   "cell_type": "code",
   "execution_count": 74,
   "metadata": {},
   "outputs": [
    {
     "data": {
      "text/plain": [
       "Species\n",
       "Iris-setosa        1.464\n",
       "Iris-versicolor    4.260\n",
       "Iris-virginica     5.552\n",
       "Name: PetalLengthCm, dtype: float64"
      ]
     },
     "execution_count": 74,
     "metadata": {},
     "output_type": "execute_result"
    }
   ],
   "source": [
    "# 計算不同類別(處理)之花瓣長度平均數\n",
    "df_iris.groupby('Species')['PetalLengthCm'].mean()"
   ]
  },
  {
   "cell_type": "code",
   "execution_count": 104,
   "metadata": {},
   "outputs": [
    {
     "name": "stdout",
     "output_type": "stream",
     "text": [
      "花瓣長度平均值(Y_hat) = 3.758666666666666 \n",
      "\n",
      "組間變異平方和(SSTR, SSB) = 436.64373333333333\n",
      "組內變異平方和(SSE, SSW) = 27.220000000000002\n",
      "總平方和(SSTO) = 463.86373333333336\n",
      "\n",
      "SSTO = SSTR + SSE = 463.86373333333336\n"
     ]
    }
   ],
   "source": [
    "# 新增欄位紀錄不同類別鳶尾花的花瓣長度平均數, 用來計算組內組間變異\n",
    "df_iris['mu_SpeciesPetalLength'] = df_iris.apply(lambda x: df_iris[df_iris['Species'] == x['Species']]['PetalLengthCm'].mean(), axis=1)\n",
    "\n",
    "# 計算組間變異: 處理平方和(SSTR, Treatment Sum of Square) / 組間平方和(SSB, Sum of Squares Between)\n",
    "mu_PetalLength = df_iris['PetalLengthCm'].mean()\n",
    "squares_model = np.sum((df_iris['mu_SpeciesPetalLength'] - mu_PetalLength) ** 2)\n",
    "\n",
    "print('花瓣長度平均值(Y_hat) =', mu_PetalLength, '\\n')\n",
    "print('組間變異平方和(SSTR, SSB) =', squares_model)\n",
    "\n",
    "# 計算組內變異: 誤差平方和(SSE, Error of Sum of Squares) / 組內平方和(SSW, Sum of Squares Within)\n",
    "# 需計算計算誤差 e = \n",
    "resid = df_iris['PetalLengthCm'] - df_iris['mu_SpeciesPetalLength']\n",
    "squares_resid = np.sum(resid ** 2)\n",
    "print('組內變異平方和(SSE, SSW) =', squares_resid)\n",
    "\n",
    "# 總平方和(SSTO, Total Sum of Squares)\n",
    "SSTO = sum((df_iris['PetalLengthCm'] - mu_PetalLength) ** 2)\n",
    "print('總平方和(SSTO) =', SSTO)\n",
    "\n",
    "# SSTO = SSTR + SSE\n",
    "print('\\nSSTO = SSTR + SSE =', squares_model + squares_resid)"
   ]
  },
  {
   "cell_type": "code",
   "execution_count": 105,
   "metadata": {},
   "outputs": [
    {
     "name": "stdout",
     "output_type": "stream",
     "text": [
      "-0.0\n",
      "0.0\n"
     ]
    }
   ],
   "source": [
    "# 誤差期望值為零, 由於平均數只取到小數第三位, 計算上會有不為零的小數, 故在此四捨五入\n",
    "print(round(resid.mean(), 4))\n",
    "\n",
    "# 任意一個處理 setosa 誤差期望值為零\n",
    "resid_setosa = df_iris[df_iris['Species']== 'Iris-setosa']['PetalLengthCm'] - df_iris[df_iris['Species']== 'Iris-setosa']['mu_SpeciesPetalLength']\n",
    "print(round(resid_setosa.mean(), 4))"
   ]
  },
  {
   "cell_type": "code",
   "execution_count": 122,
   "metadata": {},
   "outputs": [
    {
     "name": "stdout",
     "output_type": "stream",
     "text": [
      "MSTR (MSB) = 218.32186666666666\n",
      "MSE (MSW) = 0.1851700680272109\n",
      "\n",
      "F Statistic = 1179.0343277002203\n"
     ]
    }
   ],
   "source": [
    "# 處理(組間)平均平方(MSTR) = SSTR / (k-1); k 個處理自由度為 k-1\n",
    "k = df_iris['Species'].nunique()\n",
    "df_model = k - 1\n",
    "variance_model = squares_model / df_model # MSTR\n",
    "print('MSTR (MSB) =', variance_model)\n",
    "\n",
    "# 誤差(組間)平均平方(MSE) = SSE / (n-k); n 誤差的自由度為 n-k\n",
    "df_resid = len(df_iris) - k\n",
    "variance_resid = squares_resid / df_resid # MSE\n",
    "print('MSE (MSW) =', variance_resid)\n",
    "\n",
    "# 檢定統計量 F = MSTR / MSE\n",
    "f_ratio = variance_model / variance_resid\n",
    "print('\\nF Statistic =', f_ratio)"
   ]
  },
  {
   "cell_type": "markdown",
   "metadata": {},
   "source": [
    "- F 檢定一律為右尾拒絕\n",
    "- 臨界值法: 由於檢定統計量 F 大於臨界值, 故我們可拒絕掉虛無假說 H0, 鳶尾花花瓣長度在統計上存在顯著差異\n",
    "- P-Value 法: 若 P-Value 小於顯著 0.05, 拒絕掉虛無假說 H0, 鳶尾花花瓣長度在統計上存在顯著差異"
   ]
  },
  {
   "cell_type": "code",
   "execution_count": 168,
   "metadata": {},
   "outputs": [
    {
     "name": "stdout",
     "output_type": "stream",
     "text": [
      "在 Alpha = 0.05 , df1 = 2 , df2 = 147 的條件下, F 分配的臨界值 = 3.057620651649394\n"
     ]
    }
   ],
   "source": [
    "# 臨界值法, 判斷 F 是否大於臨界值位於拒絕域\n",
    "\n",
    "critical_f = stats.f.isf(q=0.05, dfn=df_model , dfd=df_resid) # Percent point function: F_aplha\n",
    "# stats.f.ppf(q=0.95, dfn=df_model, dfd=df_resid) # Inverse survival function: F_(1-alpha), 計算結果相同\n",
    "\n",
    "print('在 Alpha = 0.05 , df1 =', df_model, ', df2 =', df_resid, '的條件下, F 分配的臨界值 =', critical_f)"
   ]
  },
  {
   "cell_type": "code",
   "execution_count": 176,
   "metadata": {},
   "outputs": [
    {
     "name": "stdout",
     "output_type": "stream",
     "text": [
      "P-Value = 1.1102230246251565e-16\n",
      "由於 P-Value 小於顯著水準 0.05 , 拒絕掉虛無假說 H0, 鳶尾花花瓣長度在統計上存在顯著差異\n"
     ]
    }
   ],
   "source": [
    "# P-Value 法檢定\n",
    "pvalue = 1 - stats.f.cdf(x=f_ratio, dfn=df_model, dfd=df_resid)\n",
    "print('P-Value =', pvalue)\n",
    "\n",
    "significant_level = 0.05\n",
    "\n",
    "if pvalue < significant_level:\n",
    "    print('由於 P-Value 小於顯著水準', significant_level, ', 拒絕掉虛無假說 H0, 鳶尾花花瓣長度在統計上存在顯著差異')"
   ]
  },
  {
   "cell_type": "markdown",
   "metadata": {},
   "source": [
    "快速解：使用 `scipy.stats` 套件進行 ANOVA F 檢定"
   ]
  },
  {
   "cell_type": "code",
   "execution_count": 135,
   "metadata": {},
   "outputs": [
    {
     "data": {
      "text/plain": [
       "F_onewayResult(statistic=1179.0343277002194, pvalue=3.0519758018278374e-91)"
      ]
     },
     "execution_count": 135,
     "metadata": {},
     "output_type": "execute_result"
    }
   ],
   "source": [
    "# stats.f_oneway; 如果 P-Value < 顯著水準, 代表統計上可拒絕 H0\n",
    "treatment_1 = df_iris.loc[df_iris['Species'] == 'Iris-setosa', 'PetalLengthCm']\n",
    "treatment_2 = df_iris.loc[df_iris['Species'] == 'Iris-versicolor', 'PetalLengthCm']\n",
    "treatment_3 = df_iris.loc[df_iris['Species'] == 'Iris-virginica', 'PetalLengthCm']\n",
    "\n",
    "stats.f_oneway(treatment_1, treatment_2, treatment_3)"
   ]
  },
  {
   "cell_type": "markdown",
   "metadata": {},
   "source": [
    "快速解：使用 `statsmodels` 套件快速建立 ANOVA Table"
   ]
  },
  {
   "cell_type": "code",
   "execution_count": 179,
   "metadata": {},
   "outputs": [
    {
     "name": "stdout",
     "output_type": "stream",
     "text": [
      "              sum_sq     df            F        PR(>F)\n",
      "Species   436.643733    2.0  1179.034328  3.051976e-91\n",
      "Residual   27.220000  147.0          NaN           NaN\n"
     ]
    }
   ],
   "source": [
    "anova_model = smf.ols(\"PetalLengthCm ~ Species\", data=df_iris).fit()\n",
    "\n",
    "print(sm.stats.anova_lm(anova_model, typ=2))"
   ]
  },
  {
   "cell_type": "code",
   "execution_count": 182,
   "metadata": {},
   "outputs": [
    {
     "data": {
      "text/plain": [
       "Intercept                     1.464\n",
       "Species[T.Iris-versicolor]    2.796\n",
       "Species[T.Iris-virginica]     4.088\n",
       "dtype: float64"
      ]
     },
     "execution_count": 182,
     "metadata": {},
     "output_type": "execute_result"
    }
   ],
   "source": [
    "# 花瓣長度 ~ N(Intercept + Species[T.Iris-versicolor] * 是否為 Iris-versicolor  + Species[T.Iris-virginica] * 是否為 virginica)\n",
    "anova_model.params"
   ]
  }
 ],
 "metadata": {
  "kernelspec": {
   "display_name": "Python 3",
   "language": "python",
   "name": "python3"
  },
  "language_info": {
   "codemirror_mode": {
    "name": "ipython",
    "version": 3
   },
   "file_extension": ".py",
   "mimetype": "text/x-python",
   "name": "python",
   "nbconvert_exporter": "python",
   "pygments_lexer": "ipython3",
   "version": "3.10.5"
  },
  "orig_nbformat": 4
 },
 "nbformat": 4,
 "nbformat_minor": 2
}
